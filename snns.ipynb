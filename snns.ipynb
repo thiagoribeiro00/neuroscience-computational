{
  "nbformat": 4,
  "nbformat_minor": 0,
  "metadata": {
    "colab": {
      "provenance": [],
      "gpuType": "T4",
      "mount_file_id": "1QqLjK5Bra7XwO76kCeQkUQ8kETiJ0N7L",
      "authorship_tag": "ABX9TyMOQ57oEgsQhgkEpHW6SGZT",
      "include_colab_link": true
    },
    "kernelspec": {
      "name": "python3",
      "display_name": "Python 3"
    },
    "language_info": {
      "name": "python"
    },
    "accelerator": "GPU"
  },
  "cells": [
    {
      "cell_type": "markdown",
      "metadata": {
        "id": "view-in-github",
        "colab_type": "text"
      },
      "source": [
        "<a href=\"https://colab.research.google.com/github/thiagoribeiro00/neuroscience-computational/blob/main/snns.ipynb\" target=\"_parent\"><img src=\"https://colab.research.google.com/assets/colab-badge.svg\" alt=\"Open In Colab\"/></a>"
      ]
    },
    {
      "cell_type": "markdown",
      "source": [
        "### Instalando as dependencias"
      ],
      "metadata": {
        "id": "wtZzlCAyqgsj"
      }
    },
    {
      "cell_type": "code",
      "source": [
        "pip install snntorch torch torchvision matplotlib -q"
      ],
      "metadata": {
        "colab": {
          "base_uri": "https://localhost:8080/"
        },
        "id": "ASu0szwSqT4Y",
        "outputId": "c90be800-10b7-4bb9-94df-a926e58e4e1b"
      },
      "execution_count": null,
      "outputs": [
        {
          "output_type": "stream",
          "name": "stdout",
          "text": [
            "\u001b[2K   \u001b[90m━━━━━━━━━━━━━━━━━━━━━━━━━━━━━━━━━━━━━━━━\u001b[0m \u001b[32m125.6/125.6 kB\u001b[0m \u001b[31m3.0 MB/s\u001b[0m eta \u001b[36m0:00:00\u001b[0m\n",
            "\u001b[2K   \u001b[90m━━━━━━━━━━━━━━━━━━━━━━━━━━━━━━━━━━━━━━━━\u001b[0m \u001b[32m363.4/363.4 MB\u001b[0m \u001b[31m3.5 MB/s\u001b[0m eta \u001b[36m0:00:00\u001b[0m\n",
            "\u001b[2K   \u001b[90m━━━━━━━━━━━━━━━━━━━━━━━━━━━━━━━━━━━━━━━━\u001b[0m \u001b[32m13.8/13.8 MB\u001b[0m \u001b[31m44.5 MB/s\u001b[0m eta \u001b[36m0:00:00\u001b[0m\n",
            "\u001b[2K   \u001b[90m━━━━━━━━━━━━━━━━━━━━━━━━━━━━━━━━━━━━━━━━\u001b[0m \u001b[32m24.6/24.6 MB\u001b[0m \u001b[31m29.4 MB/s\u001b[0m eta \u001b[36m0:00:00\u001b[0m\n",
            "\u001b[2K   \u001b[90m━━━━━━━━━━━━━━━━━━━━━━━━━━━━━━━━━━━━━━━━\u001b[0m \u001b[32m883.7/883.7 kB\u001b[0m \u001b[31m29.1 MB/s\u001b[0m eta \u001b[36m0:00:00\u001b[0m\n",
            "\u001b[2K   \u001b[90m━━━━━━━━━━━━━━━━━━━━━━━━━━━━━━━━━━━━━━━━\u001b[0m \u001b[32m664.8/664.8 MB\u001b[0m \u001b[31m2.4 MB/s\u001b[0m eta \u001b[36m0:00:00\u001b[0m\n",
            "\u001b[2K   \u001b[90m━━━━━━━━━━━━━━━━━━━━━━━━━━━━━━━━━━━━━━━━\u001b[0m \u001b[32m211.5/211.5 MB\u001b[0m \u001b[31m6.6 MB/s\u001b[0m eta \u001b[36m0:00:00\u001b[0m\n",
            "\u001b[2K   \u001b[90m━━━━━━━━━━━━━━━━━━━━━━━━━━━━━━━━━━━━━━━━\u001b[0m \u001b[32m56.3/56.3 MB\u001b[0m \u001b[31m10.3 MB/s\u001b[0m eta \u001b[36m0:00:00\u001b[0m\n",
            "\u001b[2K   \u001b[90m━━━━━━━━━━━━━━━━━━━━━━━━━━━━━━━━━━━━━━━━\u001b[0m \u001b[32m127.9/127.9 MB\u001b[0m \u001b[31m6.9 MB/s\u001b[0m eta \u001b[36m0:00:00\u001b[0m\n",
            "\u001b[2K   \u001b[90m━━━━━━━━━━━━━━━━━━━━━━━━━━━━━━━━━━━━━━━━\u001b[0m \u001b[32m207.5/207.5 MB\u001b[0m \u001b[31m6.0 MB/s\u001b[0m eta \u001b[36m0:00:00\u001b[0m\n",
            "\u001b[2K   \u001b[90m━━━━━━━━━━━━━━━━━━━━━━━━━━━━━━━━━━━━━━━━\u001b[0m \u001b[32m21.1/21.1 MB\u001b[0m \u001b[31m58.4 MB/s\u001b[0m eta \u001b[36m0:00:00\u001b[0m\n",
            "\u001b[?25h"
          ]
        }
      ]
    },
    {
      "cell_type": "markdown",
      "source": [
        "### Importando as dependencias"
      ],
      "metadata": {
        "id": "eEnLvEh1qq8u"
      }
    },
    {
      "cell_type": "code",
      "source": [
        "import torch\n",
        "import torch.nn as nn\n",
        "import torchvision\n",
        "import torchvision.transforms as transforms\n",
        "from snntorch import spikegen\n",
        "from snntorch import functional as SF\n",
        "from snntorch import utils\n",
        "import matplotlib.pyplot as plt\n",
        "import snntorch as snn"
      ],
      "metadata": {
        "id": "BcHECOEUqVXA"
      },
      "execution_count": null,
      "outputs": []
    },
    {
      "cell_type": "markdown",
      "source": [
        "### Preparando dados"
      ],
      "metadata": {
        "id": "65b0XW-Dqvzv"
      }
    },
    {
      "cell_type": "code",
      "source": [
        "# Hiperparâmetros\n",
        "batch_size = 128\n",
        "num_steps = 25  # Passos temporais para simular os spikes\n",
        "\n",
        "# Transformações: converte imagens em tensores e normaliza\n",
        "transform = transforms.Compose([\n",
        "    transforms.Resize((28, 28)),\n",
        "    transforms.Grayscale(),\n",
        "    transforms.ToTensor(),\n",
        "    transforms.Normalize((0,), (1,))\n",
        "])\n",
        "\n",
        "# Carregar dados MNIST\n",
        "train_dataset = torchvision.datasets.MNIST(root='./data', train=True, download=True, transform=transform)\n",
        "test_dataset = torchvision.datasets.MNIST(root='./data', train=False, download=True, transform=transform)\n",
        "\n",
        "train_loader = torch.utils.data.DataLoader(train_dataset, batch_size=batch_size, shuffle=True)\n",
        "test_loader = torch.utils.data.DataLoader(test_dataset, batch_size=batch_size, shuffle=False)"
      ],
      "metadata": {
        "colab": {
          "base_uri": "https://localhost:8080/"
        },
        "id": "cXzn5xwOqYpv",
        "outputId": "695c458d-73cb-4d80-dd77-80701a520028"
      },
      "execution_count": null,
      "outputs": [
        {
          "output_type": "stream",
          "name": "stderr",
          "text": [
            "100%|██████████| 9.91M/9.91M [00:00<00:00, 17.7MB/s]\n",
            "100%|██████████| 28.9k/28.9k [00:00<00:00, 515kB/s]\n",
            "100%|██████████| 1.65M/1.65M [00:00<00:00, 4.34MB/s]\n",
            "100%|██████████| 4.54k/4.54k [00:00<00:00, 10.2MB/s]\n"
          ]
        }
      ]
    },
    {
      "cell_type": "markdown",
      "source": [
        "### Definindo a arquitetura do SNNs"
      ],
      "metadata": {
        "id": "DQlBahtrq5dL"
      }
    },
    {
      "cell_type": "code",
      "source": [
        "class SNN(nn.Module):\n",
        "    def __init__(self):\n",
        "        super().__init__()\n",
        "        # Camada convolucional\n",
        "        self.conv1 = nn.Conv2d(1, 8, 5)\n",
        "        self.lif1 = snn.Leaky(beta=0.9)  # Neurônio LIF com taxa de decaimento beta=0.9\n",
        "        self.conv2 = nn.Conv2d(8, 16, 5)\n",
        "        self.lif2 = snn.Leaky(beta=0.9)\n",
        "        # Calculate the correct input features for fc1\n",
        "        # Assuming input size is 28x28\n",
        "        # After conv1: (28 - 5 + 1) = 24\n",
        "        # After conv2: (24 - 5 + 1) = 20\n",
        "        # Flattened size: 16 * 20 * 20 = 6400\n",
        "        self.fc1 = nn.Linear(6400, 10)  # Changed input features to 6400\n",
        "        self.lif3 = snn.Leaky(beta=0.9)\n",
        "\n",
        "    def forward(self, x):\n",
        "        # Reinicia os estados dos neurônios\n",
        "        mem1 = self.lif1.init_leaky()\n",
        "        mem2 = self.lif2.init_leaky()\n",
        "        mem3 = self.lif3.init_leaky()\n",
        "\n",
        "        # Registra os spikes de saída\n",
        "        spk3_rec = []\n",
        "        mem3_rec = []\n",
        "\n",
        "        for step in range(num_steps):\n",
        "            # Processa cada passo temporal\n",
        "            x_step = x[step]  # Dados do passo atual\n",
        "            cur1 = self.conv1(x_step)\n",
        "            spk1, mem1 = self.lif1(cur1, mem1)\n",
        "            cur2 = self.conv2(spk1)\n",
        "            spk2, mem2 = self.lif2(cur2, mem2)\n",
        "\n",
        "            # Flatten spk2 before passing it to the fully connected layer\n",
        "            # and make sure the number of features matches the input size of the\n",
        "            # fully connected layer.\n",
        "            cur3 = self.fc1(spk2.view(spk2.size(0), -1)) # The output of conv2 is flattened and passed to fc1\n",
        "            spk3, mem3 = self.lif3(cur3, mem3)\n",
        "\n",
        "            spk3_rec.append(spk3)\n",
        "            mem3_rec.append(mem3)\n",
        "\n",
        "        return torch.stack(spk3_rec, dim=0), torch.stack(mem3_rec, dim=0)"
      ],
      "metadata": {
        "id": "ETjQxsHcqd7f"
      },
      "execution_count": null,
      "outputs": []
    },
    {
      "cell_type": "markdown",
      "source": [
        "### Definindo a função de custo do otimizador"
      ],
      "metadata": {
        "id": "vjr3W_nwrB2r"
      }
    },
    {
      "cell_type": "code",
      "source": [
        "device = torch.device(\"cuda\") if torch.cuda.is_available() else torch.device(\"cpu\")\n",
        "model = SNN().to(device)\n",
        "optimizer = torch.optim.Adam(model.parameters(), lr=0.001)\n",
        "loss_fn = SF.mse_count_loss(correct_rate=0.8, incorrect_rate=0.2)"
      ],
      "metadata": {
        "id": "Z_T0y722q_JP"
      },
      "execution_count": null,
      "outputs": []
    },
    {
      "cell_type": "markdown",
      "source": [
        "### Treinando a SNN"
      ],
      "metadata": {
        "id": "BcUmtFx_rK7k"
      }
    },
    {
      "cell_type": "code",
      "source": [
        "num_epochs = 5\n",
        "\n",
        "for epoch in range(num_epochs):\n",
        "    for i, (images, labels) in enumerate(train_loader):\n",
        "        # Converte imagens em trens de spikes\n",
        "        images = spikegen.rate(images, num_steps=num_steps).to(device)\n",
        "        labels = labels.to(device)\n",
        "\n",
        "        # Forward pass\n",
        "        spk_rec, mem_rec = model(images)\n",
        "\n",
        "        # Calcula a perda\n",
        "        loss = loss_fn(spk_rec, labels)\n",
        "\n",
        "        # Backward pass\n",
        "        optimizer.zero_grad()\n",
        "        loss.backward()\n",
        "        optimizer.step()\n",
        "\n",
        "        if (i+1) % 100 == 0:\n",
        "            print(f'Epoch [{epoch+1}/{num_epochs}], Step [{i+1}/{len(train_loader)}], Loss: {loss.item():.4f}')"
      ],
      "metadata": {
        "colab": {
          "base_uri": "https://localhost:8080/"
        },
        "id": "sBG98SF8rPD7",
        "outputId": "0f45014d-38fb-479a-c053-2ccdabbd7ee9"
      },
      "execution_count": null,
      "outputs": [
        {
          "output_type": "stream",
          "name": "stdout",
          "text": [
            "Epoch [1/5], Step [100/469], Loss: 0.2245\n",
            "Epoch [1/5], Step [200/469], Loss: 0.1417\n",
            "Epoch [1/5], Step [300/469], Loss: 0.1642\n",
            "Epoch [1/5], Step [400/469], Loss: 0.1278\n",
            "Epoch [2/5], Step [100/469], Loss: 0.1082\n",
            "Epoch [2/5], Step [200/469], Loss: 0.1416\n",
            "Epoch [2/5], Step [300/469], Loss: 0.1172\n",
            "Epoch [2/5], Step [400/469], Loss: 0.1229\n",
            "Epoch [3/5], Step [100/469], Loss: 0.1218\n",
            "Epoch [3/5], Step [200/469], Loss: 0.0987\n",
            "Epoch [3/5], Step [300/469], Loss: 0.0974\n",
            "Epoch [3/5], Step [400/469], Loss: 0.1082\n",
            "Epoch [4/5], Step [100/469], Loss: 0.0972\n",
            "Epoch [4/5], Step [200/469], Loss: 0.0817\n",
            "Epoch [4/5], Step [300/469], Loss: 0.0962\n",
            "Epoch [4/5], Step [400/469], Loss: 0.0896\n",
            "Epoch [5/5], Step [100/469], Loss: 0.0957\n",
            "Epoch [5/5], Step [200/469], Loss: 0.0730\n",
            "Epoch [5/5], Step [300/469], Loss: 0.0773\n",
            "Epoch [5/5], Step [400/469], Loss: 0.0943\n"
          ]
        }
      ]
    },
    {
      "cell_type": "markdown",
      "source": [
        "### Avavaliando o modelo"
      ],
      "metadata": {
        "id": "a2uYYKHHrQ7k"
      }
    },
    {
      "cell_type": "code",
      "source": [
        "with torch.no_grad():\n",
        "    correct = 0\n",
        "    total = 0\n",
        "    for images, labels in test_loader:\n",
        "        images = spikegen.rate(images, num_steps=num_steps).to(device)\n",
        "        labels = labels.to(device)\n",
        "        spk_rec, _ = model(images)\n",
        "\n",
        "        # Predição: neurônio com mais spikes ao longo do tempo\n",
        "        _, predicted = spk_rec.sum(dim=0).max(1)\n",
        "        total += labels.size(0)\n",
        "        correct += (predicted == labels).sum().item()\n",
        "\n",
        "    accuracy = 100 * correct / total\n",
        "    print(f'Acurácia no conjunto de teste: {accuracy:.2f}%')"
      ],
      "metadata": {
        "colab": {
          "base_uri": "https://localhost:8080/"
        },
        "id": "A6SGiveIrWdf",
        "outputId": "2321a892-0085-4e3c-dadf-f0c59b0bf6e5"
      },
      "execution_count": null,
      "outputs": [
        {
          "output_type": "stream",
          "name": "stdout",
          "text": [
            "Acurácia no conjunto de teste: 98.32%\n"
          ]
        }
      ]
    },
    {
      "cell_type": "markdown",
      "source": [
        "Vizualizar os spikes\n"
      ],
      "metadata": {
        "id": "j0YWxFh-rYZ5"
      }
    },
    {
      "cell_type": "code",
      "source": [
        "# Exemplo de visualização de spikes em um neurônio\n",
        "plt.figure(figsize=(12, 6))\n",
        "plt.subplot(1, 2, 1)\n",
        "plt.imshow(images[0][0].cpu().numpy().squeeze(), cmap='gray')\n",
        "plt.title('Imagem de Entrada')\n",
        "\n",
        "plt.subplot(1, 2, 2)\n",
        "plt.plot(spk_rec[:, 0, 0].cpu().numpy())  # Spikes do primeiro neurônio\n",
        "plt.title('Spikes ao Longo do Tempo')\n",
        "plt.xlabel('Passo Temporal')\n",
        "plt.ylabel('Spikes')\n",
        "plt.show()"
      ],
      "metadata": {
        "colab": {
          "base_uri": "https://localhost:8080/",
          "height": 450
        },
        "id": "0TX2Bv_Wrbpz",
        "outputId": "22934a50-8e15-463e-a59e-e002c1340b27"
      },
      "execution_count": null,
      "outputs": [
        {
          "output_type": "display_data",
          "data": {
            "text/plain": [
              "<Figure size 1200x600 with 2 Axes>"
            ],
            "image/png": "[encoded data removed]"
          },
          "metadata": {}
        }
      ]
    },
    {
      "cell_type": "code",
      "source": [],
      "metadata": {
        "id": "e8D8OZJXtP3q"
      },
      "execution_count": null,
      "outputs": []
    }
  ]
}